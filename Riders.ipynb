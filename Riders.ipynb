{
 "cells": [
  {
   "attachments": {},
   "cell_type": "markdown",
   "metadata": {},
   "source": [
    "# Find out which borough has the most riders?\n",
    "### Task 1: Convert Datetimne from Object to Pandas Date time.  - Done\n",
    "### Task 2: Drop unnecesary columns.\n",
    "### Task 3: Merge all the same dates for sum of riders\n",
    "### Task 4: Compare Ridership among boroughs over time"
   ]
  },
  {
   "attachments": {},
   "cell_type": "markdown",
   "metadata": {},
   "source": [
    "## Importing Libraries"
   ]
  },
  {
   "cell_type": "code",
   "execution_count": 18,
   "metadata": {},
   "outputs": [],
   "source": [
    "import pandas as pd\n",
    "import numpy as np\n",
    "import seaborn as sns\n",
    "import matplotlib.pyplot as plt\n",
    "import datetime\n",
    "import plotly.express as px"
   ]
  },
  {
   "attachments": {},
   "cell_type": "markdown",
   "metadata": {},
   "source": [
    "## importing Data and Exploration"
   ]
  },
  {
   "cell_type": "code",
   "execution_count": 3,
   "metadata": {},
   "outputs": [
    {
     "data": {
      "text/html": [
       "<div>\n",
       "<style scoped>\n",
       "    .dataframe tbody tr th:only-of-type {\n",
       "        vertical-align: middle;\n",
       "    }\n",
       "\n",
       "    .dataframe tbody tr th {\n",
       "        vertical-align: top;\n",
       "    }\n",
       "\n",
       "    .dataframe thead th {\n",
       "        text-align: right;\n",
       "    }\n",
       "</style>\n",
       "<table border=\"1\" class=\"dataframe\">\n",
       "  <thead>\n",
       "    <tr style=\"text-align: right;\">\n",
       "      <th></th>\n",
       "      <th>Unique ID</th>\n",
       "      <th>Datetime</th>\n",
       "      <th>Stop Name</th>\n",
       "      <th>Remote Unit</th>\n",
       "      <th>Line</th>\n",
       "      <th>Connecting Lines</th>\n",
       "      <th>Daytime Routes</th>\n",
       "      <th>North Direction Label</th>\n",
       "      <th>South Direction Label</th>\n",
       "      <th>Division</th>\n",
       "      <th>Structure</th>\n",
       "      <th>Borough</th>\n",
       "      <th>Neighborhood</th>\n",
       "      <th>Latitude</th>\n",
       "      <th>Longitude</th>\n",
       "      <th>Entries</th>\n",
       "      <th>Exits</th>\n",
       "    </tr>\n",
       "  </thead>\n",
       "  <tbody>\n",
       "    <tr>\n",
       "      <th>0</th>\n",
       "      <td>1</td>\n",
       "      <td>2017-02-04 04:00:00</td>\n",
       "      <td>103 St</td>\n",
       "      <td>R180</td>\n",
       "      <td>Lexington Av</td>\n",
       "      <td>6</td>\n",
       "      <td>6</td>\n",
       "      <td>Uptown Bronx</td>\n",
       "      <td>Downtown</td>\n",
       "      <td>IRT</td>\n",
       "      <td>Subway</td>\n",
       "      <td>M</td>\n",
       "      <td>East Harlem</td>\n",
       "      <td>40.790600</td>\n",
       "      <td>-73.947478</td>\n",
       "      <td>403.0</td>\n",
       "      <td>222.0</td>\n",
       "    </tr>\n",
       "    <tr>\n",
       "      <th>1</th>\n",
       "      <td>2</td>\n",
       "      <td>2017-02-04 04:00:00</td>\n",
       "      <td>103 St</td>\n",
       "      <td>R191</td>\n",
       "      <td>Broadway - 7Av</td>\n",
       "      <td>1</td>\n",
       "      <td>1</td>\n",
       "      <td>Uptown Bronx</td>\n",
       "      <td>Downtown</td>\n",
       "      <td>IRT</td>\n",
       "      <td>Subway</td>\n",
       "      <td>M</td>\n",
       "      <td>Upper West Side</td>\n",
       "      <td>40.799446</td>\n",
       "      <td>-73.968379</td>\n",
       "      <td>119.0</td>\n",
       "      <td>145.0</td>\n",
       "    </tr>\n",
       "    <tr>\n",
       "      <th>2</th>\n",
       "      <td>3</td>\n",
       "      <td>2017-02-04 04:00:00</td>\n",
       "      <td>103 St</td>\n",
       "      <td>R314</td>\n",
       "      <td>8th Av - Fulton St</td>\n",
       "      <td>BC</td>\n",
       "      <td>BC</td>\n",
       "      <td>Uptown Bronx</td>\n",
       "      <td>Downtown Brooklyn</td>\n",
       "      <td>IND</td>\n",
       "      <td>Subway</td>\n",
       "      <td>M</td>\n",
       "      <td>Upper West Side</td>\n",
       "      <td>40.796092</td>\n",
       "      <td>-73.961454</td>\n",
       "      <td>55.0</td>\n",
       "      <td>81.0</td>\n",
       "    </tr>\n",
       "    <tr>\n",
       "      <th>3</th>\n",
       "      <td>10</td>\n",
       "      <td>2017-02-04 04:00:00</td>\n",
       "      <td>111 St</td>\n",
       "      <td>R355</td>\n",
       "      <td>Liberty Av</td>\n",
       "      <td>A</td>\n",
       "      <td>A</td>\n",
       "      <td>Manhattan</td>\n",
       "      <td>Lefferts Blvd</td>\n",
       "      <td>IND</td>\n",
       "      <td>Elevated</td>\n",
       "      <td>Q</td>\n",
       "      <td>South Ozone Park/Howard Beach</td>\n",
       "      <td>40.684331</td>\n",
       "      <td>-73.832163</td>\n",
       "      <td>156.0</td>\n",
       "      <td>30.0</td>\n",
       "    </tr>\n",
       "    <tr>\n",
       "      <th>4</th>\n",
       "      <td>11</td>\n",
       "      <td>2017-02-04 04:00:00</td>\n",
       "      <td>116 St</td>\n",
       "      <td>R182</td>\n",
       "      <td>Lexington Av</td>\n",
       "      <td>6</td>\n",
       "      <td>6</td>\n",
       "      <td>Uptown Bronx</td>\n",
       "      <td>Downtown</td>\n",
       "      <td>IRT</td>\n",
       "      <td>Subway</td>\n",
       "      <td>M</td>\n",
       "      <td>East Harlem</td>\n",
       "      <td>40.798629</td>\n",
       "      <td>-73.941617</td>\n",
       "      <td>495.0</td>\n",
       "      <td>303.0</td>\n",
       "    </tr>\n",
       "    <tr>\n",
       "      <th>...</th>\n",
       "      <td>...</td>\n",
       "      <td>...</td>\n",
       "      <td>...</td>\n",
       "      <td>...</td>\n",
       "      <td>...</td>\n",
       "      <td>...</td>\n",
       "      <td>...</td>\n",
       "      <td>...</td>\n",
       "      <td>...</td>\n",
       "      <td>...</td>\n",
       "      <td>...</td>\n",
       "      <td>...</td>\n",
       "      <td>...</td>\n",
       "      <td>...</td>\n",
       "      <td>...</td>\n",
       "      <td>...</td>\n",
       "      <td>...</td>\n",
       "    </tr>\n",
       "    <tr>\n",
       "      <th>4589375</th>\n",
       "      <td>113</td>\n",
       "      <td>2021-08-13 20:00:00</td>\n",
       "      <td>5 Av/53 St</td>\n",
       "      <td>R015</td>\n",
       "      <td>Queens Blvd</td>\n",
       "      <td>EM</td>\n",
       "      <td>EM</td>\n",
       "      <td>Queens</td>\n",
       "      <td>Downtown Brooklyn</td>\n",
       "      <td>IND</td>\n",
       "      <td>Subway</td>\n",
       "      <td>M</td>\n",
       "      <td>Clinton/Chelsea</td>\n",
       "      <td>40.760167</td>\n",
       "      <td>-73.975224</td>\n",
       "      <td>1182.0</td>\n",
       "      <td>646.0</td>\n",
       "    </tr>\n",
       "    <tr>\n",
       "      <th>4589376</th>\n",
       "      <td>114</td>\n",
       "      <td>2021-08-13 20:00:00</td>\n",
       "      <td>5 Av/59 St</td>\n",
       "      <td>R079</td>\n",
       "      <td>Astoria</td>\n",
       "      <td>NQR</td>\n",
       "      <td>NWR</td>\n",
       "      <td>Queens</td>\n",
       "      <td>Downtown Brooklyn</td>\n",
       "      <td>BMT</td>\n",
       "      <td>Subway</td>\n",
       "      <td>M</td>\n",
       "      <td>Upper West Side</td>\n",
       "      <td>40.764811</td>\n",
       "      <td>-73.973347</td>\n",
       "      <td>1274.0</td>\n",
       "      <td>445.0</td>\n",
       "    </tr>\n",
       "    <tr>\n",
       "      <th>4589377</th>\n",
       "      <td>310</td>\n",
       "      <td>2021-08-13 20:00:00</td>\n",
       "      <td>Fulton St</td>\n",
       "      <td>R028</td>\n",
       "      <td>Clark St, Lexington Av</td>\n",
       "      <td>2345ACJZ</td>\n",
       "      <td>2345</td>\n",
       "      <td>Uptown Bronx Uptown Bronx</td>\n",
       "      <td>Downtown Brooklyn Downtown Brooklyn</td>\n",
       "      <td>IRT</td>\n",
       "      <td>Subway</td>\n",
       "      <td>M</td>\n",
       "      <td>Financial District</td>\n",
       "      <td>40.709892</td>\n",
       "      <td>-74.008040</td>\n",
       "      <td>433.0</td>\n",
       "      <td>549.0</td>\n",
       "    </tr>\n",
       "    <tr>\n",
       "      <th>4589378</th>\n",
       "      <td>311</td>\n",
       "      <td>2021-08-13 20:00:00</td>\n",
       "      <td>Fulton St</td>\n",
       "      <td>R028</td>\n",
       "      <td>Jamaica</td>\n",
       "      <td>ACJZ2345</td>\n",
       "      <td>JZ</td>\n",
       "      <td>Brooklyn</td>\n",
       "      <td>Broad St</td>\n",
       "      <td>BMT</td>\n",
       "      <td>Subway</td>\n",
       "      <td>M</td>\n",
       "      <td>Financial District</td>\n",
       "      <td>40.710374</td>\n",
       "      <td>-74.007582</td>\n",
       "      <td>491.0</td>\n",
       "      <td>844.0</td>\n",
       "    </tr>\n",
       "    <tr>\n",
       "      <th>4589379</th>\n",
       "      <td>456</td>\n",
       "      <td>2021-08-13 20:00:00</td>\n",
       "      <td>Wall St</td>\n",
       "      <td>R043</td>\n",
       "      <td>Lexington Av</td>\n",
       "      <td>45</td>\n",
       "      <td>45</td>\n",
       "      <td>Uptown Bronx</td>\n",
       "      <td>Downtown Brooklyn</td>\n",
       "      <td>IRT</td>\n",
       "      <td>Subway</td>\n",
       "      <td>M</td>\n",
       "      <td>Financial District</td>\n",
       "      <td>40.707557</td>\n",
       "      <td>-74.011862</td>\n",
       "      <td>763.0</td>\n",
       "      <td>499.0</td>\n",
       "    </tr>\n",
       "  </tbody>\n",
       "</table>\n",
       "<p>4589380 rows × 17 columns</p>\n",
       "</div>"
      ],
      "text/plain": [
       "         Unique ID             Datetime   Stop Name Remote Unit  \\\n",
       "0                1  2017-02-04 04:00:00      103 St        R180   \n",
       "1                2  2017-02-04 04:00:00      103 St        R191   \n",
       "2                3  2017-02-04 04:00:00      103 St        R314   \n",
       "3               10  2017-02-04 04:00:00      111 St        R355   \n",
       "4               11  2017-02-04 04:00:00      116 St        R182   \n",
       "...            ...                  ...         ...         ...   \n",
       "4589375        113  2021-08-13 20:00:00  5 Av/53 St        R015   \n",
       "4589376        114  2021-08-13 20:00:00  5 Av/59 St        R079   \n",
       "4589377        310  2021-08-13 20:00:00   Fulton St        R028   \n",
       "4589378        311  2021-08-13 20:00:00   Fulton St        R028   \n",
       "4589379        456  2021-08-13 20:00:00     Wall St        R043   \n",
       "\n",
       "                           Line Connecting Lines Daytime Routes  \\\n",
       "0                  Lexington Av                6              6   \n",
       "1                Broadway - 7Av                1              1   \n",
       "2            8th Av - Fulton St               BC             BC   \n",
       "3                    Liberty Av                A              A   \n",
       "4                  Lexington Av                6              6   \n",
       "...                         ...              ...            ...   \n",
       "4589375             Queens Blvd               EM             EM   \n",
       "4589376                 Astoria              NQR            NWR   \n",
       "4589377  Clark St, Lexington Av         2345ACJZ           2345   \n",
       "4589378                 Jamaica         ACJZ2345             JZ   \n",
       "4589379            Lexington Av               45             45   \n",
       "\n",
       "             North Direction Label                South Direction Label  \\\n",
       "0                     Uptown Bronx                             Downtown   \n",
       "1                     Uptown Bronx                             Downtown   \n",
       "2                     Uptown Bronx                    Downtown Brooklyn   \n",
       "3                        Manhattan                        Lefferts Blvd   \n",
       "4                     Uptown Bronx                             Downtown   \n",
       "...                            ...                                  ...   \n",
       "4589375                     Queens                    Downtown Brooklyn   \n",
       "4589376                     Queens                    Downtown Brooklyn   \n",
       "4589377  Uptown Bronx Uptown Bronx  Downtown Brooklyn Downtown Brooklyn   \n",
       "4589378                   Brooklyn                             Broad St   \n",
       "4589379               Uptown Bronx                    Downtown Brooklyn   \n",
       "\n",
       "        Division Structure Borough                   Neighborhood   Latitude  \\\n",
       "0            IRT    Subway       M                    East Harlem  40.790600   \n",
       "1            IRT    Subway       M                Upper West Side  40.799446   \n",
       "2            IND    Subway       M                Upper West Side  40.796092   \n",
       "3            IND  Elevated       Q  South Ozone Park/Howard Beach  40.684331   \n",
       "4            IRT    Subway       M                    East Harlem  40.798629   \n",
       "...          ...       ...     ...                            ...        ...   \n",
       "4589375      IND    Subway       M                Clinton/Chelsea  40.760167   \n",
       "4589376      BMT    Subway       M                Upper West Side  40.764811   \n",
       "4589377      IRT    Subway       M             Financial District  40.709892   \n",
       "4589378      BMT    Subway       M             Financial District  40.710374   \n",
       "4589379      IRT    Subway       M             Financial District  40.707557   \n",
       "\n",
       "         Longitude  Entries  Exits  \n",
       "0       -73.947478    403.0  222.0  \n",
       "1       -73.968379    119.0  145.0  \n",
       "2       -73.961454     55.0   81.0  \n",
       "3       -73.832163    156.0   30.0  \n",
       "4       -73.941617    495.0  303.0  \n",
       "...            ...      ...    ...  \n",
       "4589375 -73.975224   1182.0  646.0  \n",
       "4589376 -73.973347   1274.0  445.0  \n",
       "4589377 -74.008040    433.0  549.0  \n",
       "4589378 -74.007582    491.0  844.0  \n",
       "4589379 -74.011862    763.0  499.0  \n",
       "\n",
       "[4589380 rows x 17 columns]"
      ]
     },
     "execution_count": 3,
     "metadata": {},
     "output_type": "execute_result"
    }
   ],
   "source": [
    "df = pd.read_csv('NYC_subway_traffic_2017-2021.csv')\n",
    "df"
   ]
  },
  {
   "cell_type": "code",
   "execution_count": 14,
   "metadata": {},
   "outputs": [],
   "source": [
    "stops = list(df['Stop Name'].unique())"
   ]
  },
  {
   "cell_type": "code",
   "execution_count": 4,
   "metadata": {},
   "outputs": [
    {
     "data": {
      "text/plain": [
       "Unique ID                  int64\n",
       "Datetime                  object\n",
       "Stop Name                 object\n",
       "Remote Unit               object\n",
       "Line                      object\n",
       "Connecting Lines          object\n",
       "Daytime Routes            object\n",
       "North Direction Label     object\n",
       "South Direction Label     object\n",
       "Division                  object\n",
       "Structure                 object\n",
       "Borough                   object\n",
       "Neighborhood              object\n",
       "Latitude                 float64\n",
       "Longitude                float64\n",
       "Entries                  float64\n",
       "Exits                    float64\n",
       "dtype: object"
      ]
     },
     "execution_count": 4,
     "metadata": {},
     "output_type": "execute_result"
    }
   ],
   "source": [
    "df.dtypes"
   ]
  },
  {
   "cell_type": "code",
   "execution_count": 22,
   "metadata": {},
   "outputs": [
    {
     "data": {
      "text/plain": [
       "Unique ID                  469\n",
       "Datetime                  9911\n",
       "Stop Name                  345\n",
       "Remote Unit                439\n",
       "Line                        45\n",
       "Connecting Lines           103\n",
       "Daytime Routes              71\n",
       "North Direction Label       45\n",
       "South Direction Label       42\n",
       "Division                     3\n",
       "Structure                    5\n",
       "Borough                      4\n",
       "Neighborhood                51\n",
       "Latitude                   440\n",
       "Longitude                  440\n",
       "Entries                  21752\n",
       "Exits                    19151\n",
       "dtype: int64"
      ]
     },
     "execution_count": 22,
     "metadata": {},
     "output_type": "execute_result"
    }
   ],
   "source": [
    "df.nunique()"
   ]
  },
  {
   "cell_type": "code",
   "execution_count": 23,
   "metadata": {},
   "outputs": [
    {
     "data": {
      "text/plain": [
       "Unique ID                     0\n",
       "Datetime                      0\n",
       "Stop Name                     0\n",
       "Remote Unit                   0\n",
       "Line                          0\n",
       "Connecting Lines              0\n",
       "Daytime Routes                0\n",
       "North Direction Label    146807\n",
       "South Direction Label    118681\n",
       "Division                      0\n",
       "Structure                     0\n",
       "Borough                       0\n",
       "Neighborhood                  0\n",
       "Latitude                      0\n",
       "Longitude                     0\n",
       "Entries                       0\n",
       "Exits                         0\n",
       "dtype: int64"
      ]
     },
     "execution_count": 23,
     "metadata": {},
     "output_type": "execute_result"
    }
   ],
   "source": [
    "df.isnull().sum()"
   ]
  },
  {
   "cell_type": "code",
   "execution_count": 29,
   "metadata": {},
   "outputs": [
    {
     "data": {
      "text/plain": [
       "['M', 'Q', 'Bx', 'Bk']"
      ]
     },
     "execution_count": 29,
     "metadata": {},
     "output_type": "execute_result"
    }
   ],
   "source": [
    "list(df.Borough.unique())"
   ]
  },
  {
   "attachments": {},
   "cell_type": "markdown",
   "metadata": {},
   "source": [
    "# Fixing the Date and Time"
   ]
  },
  {
   "cell_type": "code",
   "execution_count": 5,
   "metadata": {},
   "outputs": [
    {
     "data": {
      "text/plain": [
       "Unique ID                         int64\n",
       "Datetime                 datetime64[ns]\n",
       "Stop Name                        object\n",
       "Remote Unit                      object\n",
       "Line                             object\n",
       "Connecting Lines                 object\n",
       "Daytime Routes                   object\n",
       "North Direction Label            object\n",
       "South Direction Label            object\n",
       "Division                         object\n",
       "Structure                        object\n",
       "Borough                          object\n",
       "Neighborhood                     object\n",
       "Latitude                        float64\n",
       "Longitude                       float64\n",
       "Entries                         float64\n",
       "Exits                           float64\n",
       "dtype: object"
      ]
     },
     "execution_count": 5,
     "metadata": {},
     "output_type": "execute_result"
    }
   ],
   "source": [
    "df['Datetime'] = pd.to_datetime(df['Datetime'])\n",
    "df.dtypes"
   ]
  },
  {
   "attachments": {},
   "cell_type": "markdown",
   "metadata": {},
   "source": [
    "df2 = df.copy()"
   ]
  },
  {
   "cell_type": "code",
   "execution_count": 7,
   "metadata": {},
   "outputs": [
    {
     "data": {
      "text/html": [
       "<div>\n",
       "<style scoped>\n",
       "    .dataframe tbody tr th:only-of-type {\n",
       "        vertical-align: middle;\n",
       "    }\n",
       "\n",
       "    .dataframe tbody tr th {\n",
       "        vertical-align: top;\n",
       "    }\n",
       "\n",
       "    .dataframe thead th {\n",
       "        text-align: right;\n",
       "    }\n",
       "</style>\n",
       "<table border=\"1\" class=\"dataframe\">\n",
       "  <thead>\n",
       "    <tr style=\"text-align: right;\">\n",
       "      <th></th>\n",
       "      <th>Unique ID</th>\n",
       "      <th>Datetime</th>\n",
       "      <th>Stop Name</th>\n",
       "      <th>Remote Unit</th>\n",
       "      <th>Line</th>\n",
       "      <th>Connecting Lines</th>\n",
       "      <th>Daytime Routes</th>\n",
       "      <th>North Direction Label</th>\n",
       "      <th>South Direction Label</th>\n",
       "      <th>Division</th>\n",
       "      <th>Structure</th>\n",
       "      <th>Borough</th>\n",
       "      <th>Neighborhood</th>\n",
       "      <th>Latitude</th>\n",
       "      <th>Longitude</th>\n",
       "      <th>Entries</th>\n",
       "      <th>Exits</th>\n",
       "      <th>Year</th>\n",
       "    </tr>\n",
       "  </thead>\n",
       "  <tbody>\n",
       "    <tr>\n",
       "      <th>0</th>\n",
       "      <td>1</td>\n",
       "      <td>2017-02-04 04:00:00</td>\n",
       "      <td>103 St</td>\n",
       "      <td>R180</td>\n",
       "      <td>Lexington Av</td>\n",
       "      <td>6</td>\n",
       "      <td>6</td>\n",
       "      <td>Uptown Bronx</td>\n",
       "      <td>Downtown</td>\n",
       "      <td>IRT</td>\n",
       "      <td>Subway</td>\n",
       "      <td>M</td>\n",
       "      <td>East Harlem</td>\n",
       "      <td>40.790600</td>\n",
       "      <td>-73.947478</td>\n",
       "      <td>403.0</td>\n",
       "      <td>222.0</td>\n",
       "      <td>2017</td>\n",
       "    </tr>\n",
       "    <tr>\n",
       "      <th>1</th>\n",
       "      <td>2</td>\n",
       "      <td>2017-02-04 04:00:00</td>\n",
       "      <td>103 St</td>\n",
       "      <td>R191</td>\n",
       "      <td>Broadway - 7Av</td>\n",
       "      <td>1</td>\n",
       "      <td>1</td>\n",
       "      <td>Uptown Bronx</td>\n",
       "      <td>Downtown</td>\n",
       "      <td>IRT</td>\n",
       "      <td>Subway</td>\n",
       "      <td>M</td>\n",
       "      <td>Upper West Side</td>\n",
       "      <td>40.799446</td>\n",
       "      <td>-73.968379</td>\n",
       "      <td>119.0</td>\n",
       "      <td>145.0</td>\n",
       "      <td>2017</td>\n",
       "    </tr>\n",
       "    <tr>\n",
       "      <th>2</th>\n",
       "      <td>3</td>\n",
       "      <td>2017-02-04 04:00:00</td>\n",
       "      <td>103 St</td>\n",
       "      <td>R314</td>\n",
       "      <td>8th Av - Fulton St</td>\n",
       "      <td>BC</td>\n",
       "      <td>BC</td>\n",
       "      <td>Uptown Bronx</td>\n",
       "      <td>Downtown Brooklyn</td>\n",
       "      <td>IND</td>\n",
       "      <td>Subway</td>\n",
       "      <td>M</td>\n",
       "      <td>Upper West Side</td>\n",
       "      <td>40.796092</td>\n",
       "      <td>-73.961454</td>\n",
       "      <td>55.0</td>\n",
       "      <td>81.0</td>\n",
       "      <td>2017</td>\n",
       "    </tr>\n",
       "    <tr>\n",
       "      <th>3</th>\n",
       "      <td>10</td>\n",
       "      <td>2017-02-04 04:00:00</td>\n",
       "      <td>111 St</td>\n",
       "      <td>R355</td>\n",
       "      <td>Liberty Av</td>\n",
       "      <td>A</td>\n",
       "      <td>A</td>\n",
       "      <td>Manhattan</td>\n",
       "      <td>Lefferts Blvd</td>\n",
       "      <td>IND</td>\n",
       "      <td>Elevated</td>\n",
       "      <td>Q</td>\n",
       "      <td>South Ozone Park/Howard Beach</td>\n",
       "      <td>40.684331</td>\n",
       "      <td>-73.832163</td>\n",
       "      <td>156.0</td>\n",
       "      <td>30.0</td>\n",
       "      <td>2017</td>\n",
       "    </tr>\n",
       "    <tr>\n",
       "      <th>4</th>\n",
       "      <td>11</td>\n",
       "      <td>2017-02-04 04:00:00</td>\n",
       "      <td>116 St</td>\n",
       "      <td>R182</td>\n",
       "      <td>Lexington Av</td>\n",
       "      <td>6</td>\n",
       "      <td>6</td>\n",
       "      <td>Uptown Bronx</td>\n",
       "      <td>Downtown</td>\n",
       "      <td>IRT</td>\n",
       "      <td>Subway</td>\n",
       "      <td>M</td>\n",
       "      <td>East Harlem</td>\n",
       "      <td>40.798629</td>\n",
       "      <td>-73.941617</td>\n",
       "      <td>495.0</td>\n",
       "      <td>303.0</td>\n",
       "      <td>2017</td>\n",
       "    </tr>\n",
       "  </tbody>\n",
       "</table>\n",
       "</div>"
      ],
      "text/plain": [
       "   Unique ID            Datetime Stop Name Remote Unit                Line  \\\n",
       "0          1 2017-02-04 04:00:00    103 St        R180        Lexington Av   \n",
       "1          2 2017-02-04 04:00:00    103 St        R191      Broadway - 7Av   \n",
       "2          3 2017-02-04 04:00:00    103 St        R314  8th Av - Fulton St   \n",
       "3         10 2017-02-04 04:00:00    111 St        R355          Liberty Av   \n",
       "4         11 2017-02-04 04:00:00    116 St        R182        Lexington Av   \n",
       "\n",
       "  Connecting Lines Daytime Routes North Direction Label South Direction Label  \\\n",
       "0                6              6          Uptown Bronx              Downtown   \n",
       "1                1              1          Uptown Bronx              Downtown   \n",
       "2               BC             BC          Uptown Bronx     Downtown Brooklyn   \n",
       "3                A              A             Manhattan         Lefferts Blvd   \n",
       "4                6              6          Uptown Bronx              Downtown   \n",
       "\n",
       "  Division Structure Borough                   Neighborhood   Latitude  \\\n",
       "0      IRT    Subway       M                    East Harlem  40.790600   \n",
       "1      IRT    Subway       M                Upper West Side  40.799446   \n",
       "2      IND    Subway       M                Upper West Side  40.796092   \n",
       "3      IND  Elevated       Q  South Ozone Park/Howard Beach  40.684331   \n",
       "4      IRT    Subway       M                    East Harlem  40.798629   \n",
       "\n",
       "   Longitude  Entries  Exits  Year  \n",
       "0 -73.947478    403.0  222.0  2017  \n",
       "1 -73.968379    119.0  145.0  2017  \n",
       "2 -73.961454     55.0   81.0  2017  \n",
       "3 -73.832163    156.0   30.0  2017  \n",
       "4 -73.941617    495.0  303.0  2017  "
      ]
     },
     "execution_count": 7,
     "metadata": {},
     "output_type": "execute_result"
    }
   ],
   "source": [
    "df2 = df.copy()\n",
    "df2['Year'] = df2['Datetime'].dt.year\n",
    "df2.head()"
   ]
  },
  {
   "cell_type": "code",
   "execution_count": 99,
   "metadata": {},
   "outputs": [
    {
     "data": {
      "text/html": [
       "<div>\n",
       "<style scoped>\n",
       "    .dataframe tbody tr th:only-of-type {\n",
       "        vertical-align: middle;\n",
       "    }\n",
       "\n",
       "    .dataframe tbody tr th {\n",
       "        vertical-align: top;\n",
       "    }\n",
       "\n",
       "    .dataframe thead th {\n",
       "        text-align: right;\n",
       "    }\n",
       "</style>\n",
       "<table border=\"1\" class=\"dataframe\">\n",
       "  <thead>\n",
       "    <tr style=\"text-align: right;\">\n",
       "      <th></th>\n",
       "      <th>Unique ID</th>\n",
       "      <th>Datetime</th>\n",
       "      <th>Stop Name</th>\n",
       "      <th>Remote Unit</th>\n",
       "      <th>Line</th>\n",
       "      <th>Connecting Lines</th>\n",
       "      <th>Daytime Routes</th>\n",
       "      <th>North Direction Label</th>\n",
       "      <th>South Direction Label</th>\n",
       "      <th>Division</th>\n",
       "      <th>Structure</th>\n",
       "      <th>Borough</th>\n",
       "      <th>Neighborhood</th>\n",
       "      <th>Latitude</th>\n",
       "      <th>Longitude</th>\n",
       "      <th>Entries</th>\n",
       "      <th>Exits</th>\n",
       "      <th>Year</th>\n",
       "    </tr>\n",
       "  </thead>\n",
       "  <tbody>\n",
       "    <tr>\n",
       "      <th>0</th>\n",
       "      <td>1</td>\n",
       "      <td>2017-02-04 04:00:00</td>\n",
       "      <td>103 St</td>\n",
       "      <td>R180</td>\n",
       "      <td>Lexington Av</td>\n",
       "      <td>6</td>\n",
       "      <td>6</td>\n",
       "      <td>Uptown Bronx</td>\n",
       "      <td>Downtown</td>\n",
       "      <td>IRT</td>\n",
       "      <td>Subway</td>\n",
       "      <td>M</td>\n",
       "      <td>East Harlem</td>\n",
       "      <td>40.790600</td>\n",
       "      <td>-73.947478</td>\n",
       "      <td>403.0</td>\n",
       "      <td>222.0</td>\n",
       "      <td>2017</td>\n",
       "    </tr>\n",
       "    <tr>\n",
       "      <th>1</th>\n",
       "      <td>2</td>\n",
       "      <td>2017-02-04 04:00:00</td>\n",
       "      <td>103 St</td>\n",
       "      <td>R191</td>\n",
       "      <td>Broadway - 7Av</td>\n",
       "      <td>1</td>\n",
       "      <td>1</td>\n",
       "      <td>Uptown Bronx</td>\n",
       "      <td>Downtown</td>\n",
       "      <td>IRT</td>\n",
       "      <td>Subway</td>\n",
       "      <td>M</td>\n",
       "      <td>Upper West Side</td>\n",
       "      <td>40.799446</td>\n",
       "      <td>-73.968379</td>\n",
       "      <td>119.0</td>\n",
       "      <td>145.0</td>\n",
       "      <td>2017</td>\n",
       "    </tr>\n",
       "    <tr>\n",
       "      <th>2</th>\n",
       "      <td>3</td>\n",
       "      <td>2017-02-04 04:00:00</td>\n",
       "      <td>103 St</td>\n",
       "      <td>R314</td>\n",
       "      <td>8th Av - Fulton St</td>\n",
       "      <td>BC</td>\n",
       "      <td>BC</td>\n",
       "      <td>Uptown Bronx</td>\n",
       "      <td>Downtown Brooklyn</td>\n",
       "      <td>IND</td>\n",
       "      <td>Subway</td>\n",
       "      <td>M</td>\n",
       "      <td>Upper West Side</td>\n",
       "      <td>40.796092</td>\n",
       "      <td>-73.961454</td>\n",
       "      <td>55.0</td>\n",
       "      <td>81.0</td>\n",
       "      <td>2017</td>\n",
       "    </tr>\n",
       "    <tr>\n",
       "      <th>3</th>\n",
       "      <td>10</td>\n",
       "      <td>2017-02-04 04:00:00</td>\n",
       "      <td>111 St</td>\n",
       "      <td>R355</td>\n",
       "      <td>Liberty Av</td>\n",
       "      <td>A</td>\n",
       "      <td>A</td>\n",
       "      <td>Manhattan</td>\n",
       "      <td>Lefferts Blvd</td>\n",
       "      <td>IND</td>\n",
       "      <td>Elevated</td>\n",
       "      <td>Q</td>\n",
       "      <td>South Ozone Park/Howard Beach</td>\n",
       "      <td>40.684331</td>\n",
       "      <td>-73.832163</td>\n",
       "      <td>156.0</td>\n",
       "      <td>30.0</td>\n",
       "      <td>2017</td>\n",
       "    </tr>\n",
       "    <tr>\n",
       "      <th>4</th>\n",
       "      <td>11</td>\n",
       "      <td>2017-02-04 04:00:00</td>\n",
       "      <td>116 St</td>\n",
       "      <td>R182</td>\n",
       "      <td>Lexington Av</td>\n",
       "      <td>6</td>\n",
       "      <td>6</td>\n",
       "      <td>Uptown Bronx</td>\n",
       "      <td>Downtown</td>\n",
       "      <td>IRT</td>\n",
       "      <td>Subway</td>\n",
       "      <td>M</td>\n",
       "      <td>East Harlem</td>\n",
       "      <td>40.798629</td>\n",
       "      <td>-73.941617</td>\n",
       "      <td>495.0</td>\n",
       "      <td>303.0</td>\n",
       "      <td>2017</td>\n",
       "    </tr>\n",
       "    <tr>\n",
       "      <th>...</th>\n",
       "      <td>...</td>\n",
       "      <td>...</td>\n",
       "      <td>...</td>\n",
       "      <td>...</td>\n",
       "      <td>...</td>\n",
       "      <td>...</td>\n",
       "      <td>...</td>\n",
       "      <td>...</td>\n",
       "      <td>...</td>\n",
       "      <td>...</td>\n",
       "      <td>...</td>\n",
       "      <td>...</td>\n",
       "      <td>...</td>\n",
       "      <td>...</td>\n",
       "      <td>...</td>\n",
       "      <td>...</td>\n",
       "      <td>...</td>\n",
       "      <td>...</td>\n",
       "    </tr>\n",
       "    <tr>\n",
       "      <th>4589375</th>\n",
       "      <td>113</td>\n",
       "      <td>2021-08-13 20:00:00</td>\n",
       "      <td>5 Av/53 St</td>\n",
       "      <td>R015</td>\n",
       "      <td>Queens Blvd</td>\n",
       "      <td>EM</td>\n",
       "      <td>EM</td>\n",
       "      <td>Queens</td>\n",
       "      <td>Downtown Brooklyn</td>\n",
       "      <td>IND</td>\n",
       "      <td>Subway</td>\n",
       "      <td>M</td>\n",
       "      <td>Clinton/Chelsea</td>\n",
       "      <td>40.760167</td>\n",
       "      <td>-73.975224</td>\n",
       "      <td>1182.0</td>\n",
       "      <td>646.0</td>\n",
       "      <td>2021</td>\n",
       "    </tr>\n",
       "    <tr>\n",
       "      <th>4589376</th>\n",
       "      <td>114</td>\n",
       "      <td>2021-08-13 20:00:00</td>\n",
       "      <td>5 Av/59 St</td>\n",
       "      <td>R079</td>\n",
       "      <td>Astoria</td>\n",
       "      <td>NQR</td>\n",
       "      <td>NWR</td>\n",
       "      <td>Queens</td>\n",
       "      <td>Downtown Brooklyn</td>\n",
       "      <td>BMT</td>\n",
       "      <td>Subway</td>\n",
       "      <td>M</td>\n",
       "      <td>Upper West Side</td>\n",
       "      <td>40.764811</td>\n",
       "      <td>-73.973347</td>\n",
       "      <td>1274.0</td>\n",
       "      <td>445.0</td>\n",
       "      <td>2021</td>\n",
       "    </tr>\n",
       "    <tr>\n",
       "      <th>4589377</th>\n",
       "      <td>310</td>\n",
       "      <td>2021-08-13 20:00:00</td>\n",
       "      <td>Fulton St</td>\n",
       "      <td>R028</td>\n",
       "      <td>Clark St, Lexington Av</td>\n",
       "      <td>2345ACJZ</td>\n",
       "      <td>2345</td>\n",
       "      <td>Uptown Bronx Uptown Bronx</td>\n",
       "      <td>Downtown Brooklyn Downtown Brooklyn</td>\n",
       "      <td>IRT</td>\n",
       "      <td>Subway</td>\n",
       "      <td>M</td>\n",
       "      <td>Financial District</td>\n",
       "      <td>40.709892</td>\n",
       "      <td>-74.008040</td>\n",
       "      <td>433.0</td>\n",
       "      <td>549.0</td>\n",
       "      <td>2021</td>\n",
       "    </tr>\n",
       "    <tr>\n",
       "      <th>4589378</th>\n",
       "      <td>311</td>\n",
       "      <td>2021-08-13 20:00:00</td>\n",
       "      <td>Fulton St</td>\n",
       "      <td>R028</td>\n",
       "      <td>Jamaica</td>\n",
       "      <td>ACJZ2345</td>\n",
       "      <td>JZ</td>\n",
       "      <td>Brooklyn</td>\n",
       "      <td>Broad St</td>\n",
       "      <td>BMT</td>\n",
       "      <td>Subway</td>\n",
       "      <td>M</td>\n",
       "      <td>Financial District</td>\n",
       "      <td>40.710374</td>\n",
       "      <td>-74.007582</td>\n",
       "      <td>491.0</td>\n",
       "      <td>844.0</td>\n",
       "      <td>2021</td>\n",
       "    </tr>\n",
       "    <tr>\n",
       "      <th>4589379</th>\n",
       "      <td>456</td>\n",
       "      <td>2021-08-13 20:00:00</td>\n",
       "      <td>Wall St</td>\n",
       "      <td>R043</td>\n",
       "      <td>Lexington Av</td>\n",
       "      <td>45</td>\n",
       "      <td>45</td>\n",
       "      <td>Uptown Bronx</td>\n",
       "      <td>Downtown Brooklyn</td>\n",
       "      <td>IRT</td>\n",
       "      <td>Subway</td>\n",
       "      <td>M</td>\n",
       "      <td>Financial District</td>\n",
       "      <td>40.707557</td>\n",
       "      <td>-74.011862</td>\n",
       "      <td>763.0</td>\n",
       "      <td>499.0</td>\n",
       "      <td>2021</td>\n",
       "    </tr>\n",
       "  </tbody>\n",
       "</table>\n",
       "<p>4589380 rows × 18 columns</p>\n",
       "</div>"
      ],
      "text/plain": [
       "         Unique ID            Datetime   Stop Name Remote Unit  \\\n",
       "0                1 2017-02-04 04:00:00      103 St        R180   \n",
       "1                2 2017-02-04 04:00:00      103 St        R191   \n",
       "2                3 2017-02-04 04:00:00      103 St        R314   \n",
       "3               10 2017-02-04 04:00:00      111 St        R355   \n",
       "4               11 2017-02-04 04:00:00      116 St        R182   \n",
       "...            ...                 ...         ...         ...   \n",
       "4589375        113 2021-08-13 20:00:00  5 Av/53 St        R015   \n",
       "4589376        114 2021-08-13 20:00:00  5 Av/59 St        R079   \n",
       "4589377        310 2021-08-13 20:00:00   Fulton St        R028   \n",
       "4589378        311 2021-08-13 20:00:00   Fulton St        R028   \n",
       "4589379        456 2021-08-13 20:00:00     Wall St        R043   \n",
       "\n",
       "                           Line Connecting Lines Daytime Routes  \\\n",
       "0                  Lexington Av                6              6   \n",
       "1                Broadway - 7Av                1              1   \n",
       "2            8th Av - Fulton St               BC             BC   \n",
       "3                    Liberty Av                A              A   \n",
       "4                  Lexington Av                6              6   \n",
       "...                         ...              ...            ...   \n",
       "4589375             Queens Blvd               EM             EM   \n",
       "4589376                 Astoria              NQR            NWR   \n",
       "4589377  Clark St, Lexington Av         2345ACJZ           2345   \n",
       "4589378                 Jamaica         ACJZ2345             JZ   \n",
       "4589379            Lexington Av               45             45   \n",
       "\n",
       "             North Direction Label                South Direction Label  \\\n",
       "0                     Uptown Bronx                             Downtown   \n",
       "1                     Uptown Bronx                             Downtown   \n",
       "2                     Uptown Bronx                    Downtown Brooklyn   \n",
       "3                        Manhattan                        Lefferts Blvd   \n",
       "4                     Uptown Bronx                             Downtown   \n",
       "...                            ...                                  ...   \n",
       "4589375                     Queens                    Downtown Brooklyn   \n",
       "4589376                     Queens                    Downtown Brooklyn   \n",
       "4589377  Uptown Bronx Uptown Bronx  Downtown Brooklyn Downtown Brooklyn   \n",
       "4589378                   Brooklyn                             Broad St   \n",
       "4589379               Uptown Bronx                    Downtown Brooklyn   \n",
       "\n",
       "        Division Structure Borough                   Neighborhood   Latitude  \\\n",
       "0            IRT    Subway       M                    East Harlem  40.790600   \n",
       "1            IRT    Subway       M                Upper West Side  40.799446   \n",
       "2            IND    Subway       M                Upper West Side  40.796092   \n",
       "3            IND  Elevated       Q  South Ozone Park/Howard Beach  40.684331   \n",
       "4            IRT    Subway       M                    East Harlem  40.798629   \n",
       "...          ...       ...     ...                            ...        ...   \n",
       "4589375      IND    Subway       M                Clinton/Chelsea  40.760167   \n",
       "4589376      BMT    Subway       M                Upper West Side  40.764811   \n",
       "4589377      IRT    Subway       M             Financial District  40.709892   \n",
       "4589378      BMT    Subway       M             Financial District  40.710374   \n",
       "4589379      IRT    Subway       M             Financial District  40.707557   \n",
       "\n",
       "         Longitude  Entries  Exits  Year  \n",
       "0       -73.947478    403.0  222.0  2017  \n",
       "1       -73.968379    119.0  145.0  2017  \n",
       "2       -73.961454     55.0   81.0  2017  \n",
       "3       -73.832163    156.0   30.0  2017  \n",
       "4       -73.941617    495.0  303.0  2017  \n",
       "...            ...      ...    ...   ...  \n",
       "4589375 -73.975224   1182.0  646.0  2021  \n",
       "4589376 -73.973347   1274.0  445.0  2021  \n",
       "4589377 -74.008040    433.0  549.0  2021  \n",
       "4589378 -74.007582    491.0  844.0  2021  \n",
       "4589379 -74.011862    763.0  499.0  2021  \n",
       "\n",
       "[4589380 rows x 18 columns]"
      ]
     },
     "execution_count": 99,
     "metadata": {},
     "output_type": "execute_result"
    }
   ],
   "source": [
    "df2"
   ]
  },
  {
   "attachments": {},
   "cell_type": "markdown",
   "metadata": {},
   "source": [
    "# The total Ridership\n",
    " #### now i have to filter by borough with == command and then visualize the boroughs on sns"
   ]
  },
  {
   "cell_type": "code",
   "execution_count": 16,
   "metadata": {},
   "outputs": [
    {
     "data": {
      "text/html": [
       "<div>\n",
       "<style scoped>\n",
       "    .dataframe tbody tr th:only-of-type {\n",
       "        vertical-align: middle;\n",
       "    }\n",
       "\n",
       "    .dataframe tbody tr th {\n",
       "        vertical-align: top;\n",
       "    }\n",
       "\n",
       "    .dataframe thead th {\n",
       "        text-align: right;\n",
       "    }\n",
       "</style>\n",
       "<table border=\"1\" class=\"dataframe\">\n",
       "  <thead>\n",
       "    <tr style=\"text-align: right;\">\n",
       "      <th></th>\n",
       "      <th>Borough</th>\n",
       "      <th>Year</th>\n",
       "      <th>Exits</th>\n",
       "    </tr>\n",
       "  </thead>\n",
       "  <tbody>\n",
       "    <tr>\n",
       "      <th>0</th>\n",
       "      <td>Bk</td>\n",
       "      <td>2017</td>\n",
       "      <td>219817173.0</td>\n",
       "    </tr>\n",
       "    <tr>\n",
       "      <th>5</th>\n",
       "      <td>Bx</td>\n",
       "      <td>2017</td>\n",
       "      <td>76339921.0</td>\n",
       "    </tr>\n",
       "    <tr>\n",
       "      <th>10</th>\n",
       "      <td>M</td>\n",
       "      <td>2017</td>\n",
       "      <td>659599695.0</td>\n",
       "    </tr>\n",
       "    <tr>\n",
       "      <th>15</th>\n",
       "      <td>Q</td>\n",
       "      <td>2017</td>\n",
       "      <td>155139963.0</td>\n",
       "    </tr>\n",
       "    <tr>\n",
       "      <th>1</th>\n",
       "      <td>Bk</td>\n",
       "      <td>2018</td>\n",
       "      <td>237846990.0</td>\n",
       "    </tr>\n",
       "    <tr>\n",
       "      <th>6</th>\n",
       "      <td>Bx</td>\n",
       "      <td>2018</td>\n",
       "      <td>81434880.0</td>\n",
       "    </tr>\n",
       "    <tr>\n",
       "      <th>11</th>\n",
       "      <td>M</td>\n",
       "      <td>2018</td>\n",
       "      <td>713948407.0</td>\n",
       "    </tr>\n",
       "    <tr>\n",
       "      <th>16</th>\n",
       "      <td>Q</td>\n",
       "      <td>2018</td>\n",
       "      <td>166449787.0</td>\n",
       "    </tr>\n",
       "    <tr>\n",
       "      <th>2</th>\n",
       "      <td>Bk</td>\n",
       "      <td>2019</td>\n",
       "      <td>248005468.0</td>\n",
       "    </tr>\n",
       "    <tr>\n",
       "      <th>17</th>\n",
       "      <td>Q</td>\n",
       "      <td>2019</td>\n",
       "      <td>173289200.0</td>\n",
       "    </tr>\n",
       "    <tr>\n",
       "      <th>7</th>\n",
       "      <td>Bx</td>\n",
       "      <td>2019</td>\n",
       "      <td>83569951.0</td>\n",
       "    </tr>\n",
       "    <tr>\n",
       "      <th>12</th>\n",
       "      <td>M</td>\n",
       "      <td>2019</td>\n",
       "      <td>747899028.0</td>\n",
       "    </tr>\n",
       "    <tr>\n",
       "      <th>3</th>\n",
       "      <td>Bk</td>\n",
       "      <td>2020</td>\n",
       "      <td>121589547.0</td>\n",
       "    </tr>\n",
       "    <tr>\n",
       "      <th>8</th>\n",
       "      <td>Bx</td>\n",
       "      <td>2020</td>\n",
       "      <td>47776194.0</td>\n",
       "    </tr>\n",
       "    <tr>\n",
       "      <th>18</th>\n",
       "      <td>Q</td>\n",
       "      <td>2020</td>\n",
       "      <td>83694406.0</td>\n",
       "    </tr>\n",
       "    <tr>\n",
       "      <th>13</th>\n",
       "      <td>M</td>\n",
       "      <td>2020</td>\n",
       "      <td>286062973.0</td>\n",
       "    </tr>\n",
       "    <tr>\n",
       "      <th>9</th>\n",
       "      <td>Bx</td>\n",
       "      <td>2021</td>\n",
       "      <td>31613367.0</td>\n",
       "    </tr>\n",
       "    <tr>\n",
       "      <th>4</th>\n",
       "      <td>Bk</td>\n",
       "      <td>2021</td>\n",
       "      <td>81555502.0</td>\n",
       "    </tr>\n",
       "    <tr>\n",
       "      <th>14</th>\n",
       "      <td>M</td>\n",
       "      <td>2021</td>\n",
       "      <td>182627114.0</td>\n",
       "    </tr>\n",
       "    <tr>\n",
       "      <th>19</th>\n",
       "      <td>Q</td>\n",
       "      <td>2021</td>\n",
       "      <td>57779083.0</td>\n",
       "    </tr>\n",
       "  </tbody>\n",
       "</table>\n",
       "</div>"
      ],
      "text/plain": [
       "   Borough  Year        Exits\n",
       "0       Bk  2017  219817173.0\n",
       "5       Bx  2017   76339921.0\n",
       "10       M  2017  659599695.0\n",
       "15       Q  2017  155139963.0\n",
       "1       Bk  2018  237846990.0\n",
       "6       Bx  2018   81434880.0\n",
       "11       M  2018  713948407.0\n",
       "16       Q  2018  166449787.0\n",
       "2       Bk  2019  248005468.0\n",
       "17       Q  2019  173289200.0\n",
       "7       Bx  2019   83569951.0\n",
       "12       M  2019  747899028.0\n",
       "3       Bk  2020  121589547.0\n",
       "8       Bx  2020   47776194.0\n",
       "18       Q  2020   83694406.0\n",
       "13       M  2020  286062973.0\n",
       "9       Bx  2021   31613367.0\n",
       "4       Bk  2021   81555502.0\n",
       "14       M  2021  182627114.0\n",
       "19       Q  2021   57779083.0"
      ]
     },
     "execution_count": 16,
     "metadata": {},
     "output_type": "execute_result"
    }
   ],
   "source": [
    "test = df2.groupby(['Borough', 'Year'])['Exits'].sum().reset_index().sort_values(by = 'Year')\n",
    "test"
   ]
  },
  {
   "cell_type": "code",
   "execution_count": 22,
   "metadata": {},
   "outputs": [
    {
     "data": {
      "application/vnd.plotly.v1+json": {
       "config": {
        "plotlyServerURL": "https://plot.ly"
       },
       "data": [
        {
         "hovertemplate": "Borough=Bk<br>Year=%{x}<br>Exits=%{y}<extra></extra>",
         "legendgroup": "Bk",
         "line": {
          "color": "#636efa",
          "dash": "solid"
         },
         "marker": {
          "symbol": "circle"
         },
         "mode": "lines",
         "name": "Bk",
         "orientation": "v",
         "showlegend": true,
         "type": "scatter",
         "x": [
          2017,
          2018,
          2019,
          2020,
          2021
         ],
         "xaxis": "x",
         "y": [
          219817173,
          237846990,
          248005468,
          121589547,
          81555502
         ],
         "yaxis": "y"
        },
        {
         "hovertemplate": "Borough=Bx<br>Year=%{x}<br>Exits=%{y}<extra></extra>",
         "legendgroup": "Bx",
         "line": {
          "color": "#EF553B",
          "dash": "solid"
         },
         "marker": {
          "symbol": "circle"
         },
         "mode": "lines",
         "name": "Bx",
         "orientation": "v",
         "showlegend": true,
         "type": "scatter",
         "x": [
          2017,
          2018,
          2019,
          2020,
          2021
         ],
         "xaxis": "x",
         "y": [
          76339921,
          81434880,
          83569951,
          47776194,
          31613367
         ],
         "yaxis": "y"
        },
        {
         "hovertemplate": "Borough=M<br>Year=%{x}<br>Exits=%{y}<extra></extra>",
         "legendgroup": "M",
         "line": {
          "color": "#00cc96",
          "dash": "solid"
         },
         "marker": {
          "symbol": "circle"
         },
         "mode": "lines",
         "name": "M",
         "orientation": "v",
         "showlegend": true,
         "type": "scatter",
         "x": [
          2017,
          2018,
          2019,
          2020,
          2021
         ],
         "xaxis": "x",
         "y": [
          659599695,
          713948407,
          747899028,
          286062973,
          182627114
         ],
         "yaxis": "y"
        },
        {
         "hovertemplate": "Borough=Q<br>Year=%{x}<br>Exits=%{y}<extra></extra>",
         "legendgroup": "Q",
         "line": {
          "color": "#ab63fa",
          "dash": "solid"
         },
         "marker": {
          "symbol": "circle"
         },
         "mode": "lines",
         "name": "Q",
         "orientation": "v",
         "showlegend": true,
         "type": "scatter",
         "x": [
          2017,
          2018,
          2019,
          2020,
          2021
         ],
         "xaxis": "x",
         "y": [
          155139963,
          166449787,
          173289200,
          83694406,
          57779083
         ],
         "yaxis": "y"
        }
       ],
       "layout": {
        "legend": {
         "title": {
          "text": "Borough"
         },
         "tracegroupgap": 0
        },
        "template": {
         "data": {
          "bar": [
           {
            "error_x": {
             "color": "#2a3f5f"
            },
            "error_y": {
             "color": "#2a3f5f"
            },
            "marker": {
             "line": {
              "color": "#E5ECF6",
              "width": 0.5
             },
             "pattern": {
              "fillmode": "overlay",
              "size": 10,
              "solidity": 0.2
             }
            },
            "type": "bar"
           }
          ],
          "barpolar": [
           {
            "marker": {
             "line": {
              "color": "#E5ECF6",
              "width": 0.5
             },
             "pattern": {
              "fillmode": "overlay",
              "size": 10,
              "solidity": 0.2
             }
            },
            "type": "barpolar"
           }
          ],
          "carpet": [
           {
            "aaxis": {
             "endlinecolor": "#2a3f5f",
             "gridcolor": "white",
             "linecolor": "white",
             "minorgridcolor": "white",
             "startlinecolor": "#2a3f5f"
            },
            "baxis": {
             "endlinecolor": "#2a3f5f",
             "gridcolor": "white",
             "linecolor": "white",
             "minorgridcolor": "white",
             "startlinecolor": "#2a3f5f"
            },
            "type": "carpet"
           }
          ],
          "choropleth": [
           {
            "colorbar": {
             "outlinewidth": 0,
             "ticks": ""
            },
            "type": "choropleth"
           }
          ],
          "contour": [
           {
            "colorbar": {
             "outlinewidth": 0,
             "ticks": ""
            },
            "colorscale": [
             [
              0,
              "#0d0887"
             ],
             [
              0.1111111111111111,
              "#46039f"
             ],
             [
              0.2222222222222222,
              "#7201a8"
             ],
             [
              0.3333333333333333,
              "#9c179e"
             ],
             [
              0.4444444444444444,
              "#bd3786"
             ],
             [
              0.5555555555555556,
              "#d8576b"
             ],
             [
              0.6666666666666666,
              "#ed7953"
             ],
             [
              0.7777777777777778,
              "#fb9f3a"
             ],
             [
              0.8888888888888888,
              "#fdca26"
             ],
             [
              1,
              "#f0f921"
             ]
            ],
            "type": "contour"
           }
          ],
          "contourcarpet": [
           {
            "colorbar": {
             "outlinewidth": 0,
             "ticks": ""
            },
            "type": "contourcarpet"
           }
          ],
          "heatmap": [
           {
            "colorbar": {
             "outlinewidth": 0,
             "ticks": ""
            },
            "colorscale": [
             [
              0,
              "#0d0887"
             ],
             [
              0.1111111111111111,
              "#46039f"
             ],
             [
              0.2222222222222222,
              "#7201a8"
             ],
             [
              0.3333333333333333,
              "#9c179e"
             ],
             [
              0.4444444444444444,
              "#bd3786"
             ],
             [
              0.5555555555555556,
              "#d8576b"
             ],
             [
              0.6666666666666666,
              "#ed7953"
             ],
             [
              0.7777777777777778,
              "#fb9f3a"
             ],
             [
              0.8888888888888888,
              "#fdca26"
             ],
             [
              1,
              "#f0f921"
             ]
            ],
            "type": "heatmap"
           }
          ],
          "heatmapgl": [
           {
            "colorbar": {
             "outlinewidth": 0,
             "ticks": ""
            },
            "colorscale": [
             [
              0,
              "#0d0887"
             ],
             [
              0.1111111111111111,
              "#46039f"
             ],
             [
              0.2222222222222222,
              "#7201a8"
             ],
             [
              0.3333333333333333,
              "#9c179e"
             ],
             [
              0.4444444444444444,
              "#bd3786"
             ],
             [
              0.5555555555555556,
              "#d8576b"
             ],
             [
              0.6666666666666666,
              "#ed7953"
             ],
             [
              0.7777777777777778,
              "#fb9f3a"
             ],
             [
              0.8888888888888888,
              "#fdca26"
             ],
             [
              1,
              "#f0f921"
             ]
            ],
            "type": "heatmapgl"
           }
          ],
          "histogram": [
           {
            "marker": {
             "pattern": {
              "fillmode": "overlay",
              "size": 10,
              "solidity": 0.2
             }
            },
            "type": "histogram"
           }
          ],
          "histogram2d": [
           {
            "colorbar": {
             "outlinewidth": 0,
             "ticks": ""
            },
            "colorscale": [
             [
              0,
              "#0d0887"
             ],
             [
              0.1111111111111111,
              "#46039f"
             ],
             [
              0.2222222222222222,
              "#7201a8"
             ],
             [
              0.3333333333333333,
              "#9c179e"
             ],
             [
              0.4444444444444444,
              "#bd3786"
             ],
             [
              0.5555555555555556,
              "#d8576b"
             ],
             [
              0.6666666666666666,
              "#ed7953"
             ],
             [
              0.7777777777777778,
              "#fb9f3a"
             ],
             [
              0.8888888888888888,
              "#fdca26"
             ],
             [
              1,
              "#f0f921"
             ]
            ],
            "type": "histogram2d"
           }
          ],
          "histogram2dcontour": [
           {
            "colorbar": {
             "outlinewidth": 0,
             "ticks": ""
            },
            "colorscale": [
             [
              0,
              "#0d0887"
             ],
             [
              0.1111111111111111,
              "#46039f"
             ],
             [
              0.2222222222222222,
              "#7201a8"
             ],
             [
              0.3333333333333333,
              "#9c179e"
             ],
             [
              0.4444444444444444,
              "#bd3786"
             ],
             [
              0.5555555555555556,
              "#d8576b"
             ],
             [
              0.6666666666666666,
              "#ed7953"
             ],
             [
              0.7777777777777778,
              "#fb9f3a"
             ],
             [
              0.8888888888888888,
              "#fdca26"
             ],
             [
              1,
              "#f0f921"
             ]
            ],
            "type": "histogram2dcontour"
           }
          ],
          "mesh3d": [
           {
            "colorbar": {
             "outlinewidth": 0,
             "ticks": ""
            },
            "type": "mesh3d"
           }
          ],
          "parcoords": [
           {
            "line": {
             "colorbar": {
              "outlinewidth": 0,
              "ticks": ""
             }
            },
            "type": "parcoords"
           }
          ],
          "pie": [
           {
            "automargin": true,
            "type": "pie"
           }
          ],
          "scatter": [
           {
            "marker": {
             "colorbar": {
              "outlinewidth": 0,
              "ticks": ""
             }
            },
            "type": "scatter"
           }
          ],
          "scatter3d": [
           {
            "line": {
             "colorbar": {
              "outlinewidth": 0,
              "ticks": ""
             }
            },
            "marker": {
             "colorbar": {
              "outlinewidth": 0,
              "ticks": ""
             }
            },
            "type": "scatter3d"
           }
          ],
          "scattercarpet": [
           {
            "marker": {
             "colorbar": {
              "outlinewidth": 0,
              "ticks": ""
             }
            },
            "type": "scattercarpet"
           }
          ],
          "scattergeo": [
           {
            "marker": {
             "colorbar": {
              "outlinewidth": 0,
              "ticks": ""
             }
            },
            "type": "scattergeo"
           }
          ],
          "scattergl": [
           {
            "marker": {
             "colorbar": {
              "outlinewidth": 0,
              "ticks": ""
             }
            },
            "type": "scattergl"
           }
          ],
          "scattermapbox": [
           {
            "marker": {
             "colorbar": {
              "outlinewidth": 0,
              "ticks": ""
             }
            },
            "type": "scattermapbox"
           }
          ],
          "scatterpolar": [
           {
            "marker": {
             "colorbar": {
              "outlinewidth": 0,
              "ticks": ""
             }
            },
            "type": "scatterpolar"
           }
          ],
          "scatterpolargl": [
           {
            "marker": {
             "colorbar": {
              "outlinewidth": 0,
              "ticks": ""
             }
            },
            "type": "scatterpolargl"
           }
          ],
          "scatterternary": [
           {
            "marker": {
             "colorbar": {
              "outlinewidth": 0,
              "ticks": ""
             }
            },
            "type": "scatterternary"
           }
          ],
          "surface": [
           {
            "colorbar": {
             "outlinewidth": 0,
             "ticks": ""
            },
            "colorscale": [
             [
              0,
              "#0d0887"
             ],
             [
              0.1111111111111111,
              "#46039f"
             ],
             [
              0.2222222222222222,
              "#7201a8"
             ],
             [
              0.3333333333333333,
              "#9c179e"
             ],
             [
              0.4444444444444444,
              "#bd3786"
             ],
             [
              0.5555555555555556,
              "#d8576b"
             ],
             [
              0.6666666666666666,
              "#ed7953"
             ],
             [
              0.7777777777777778,
              "#fb9f3a"
             ],
             [
              0.8888888888888888,
              "#fdca26"
             ],
             [
              1,
              "#f0f921"
             ]
            ],
            "type": "surface"
           }
          ],
          "table": [
           {
            "cells": {
             "fill": {
              "color": "#EBF0F8"
             },
             "line": {
              "color": "white"
             }
            },
            "header": {
             "fill": {
              "color": "#C8D4E3"
             },
             "line": {
              "color": "white"
             }
            },
            "type": "table"
           }
          ]
         },
         "layout": {
          "annotationdefaults": {
           "arrowcolor": "#2a3f5f",
           "arrowhead": 0,
           "arrowwidth": 1
          },
          "autotypenumbers": "strict",
          "coloraxis": {
           "colorbar": {
            "outlinewidth": 0,
            "ticks": ""
           }
          },
          "colorscale": {
           "diverging": [
            [
             0,
             "#8e0152"
            ],
            [
             0.1,
             "#c51b7d"
            ],
            [
             0.2,
             "#de77ae"
            ],
            [
             0.3,
             "#f1b6da"
            ],
            [
             0.4,
             "#fde0ef"
            ],
            [
             0.5,
             "#f7f7f7"
            ],
            [
             0.6,
             "#e6f5d0"
            ],
            [
             0.7,
             "#b8e186"
            ],
            [
             0.8,
             "#7fbc41"
            ],
            [
             0.9,
             "#4d9221"
            ],
            [
             1,
             "#276419"
            ]
           ],
           "sequential": [
            [
             0,
             "#0d0887"
            ],
            [
             0.1111111111111111,
             "#46039f"
            ],
            [
             0.2222222222222222,
             "#7201a8"
            ],
            [
             0.3333333333333333,
             "#9c179e"
            ],
            [
             0.4444444444444444,
             "#bd3786"
            ],
            [
             0.5555555555555556,
             "#d8576b"
            ],
            [
             0.6666666666666666,
             "#ed7953"
            ],
            [
             0.7777777777777778,
             "#fb9f3a"
            ],
            [
             0.8888888888888888,
             "#fdca26"
            ],
            [
             1,
             "#f0f921"
            ]
           ],
           "sequentialminus": [
            [
             0,
             "#0d0887"
            ],
            [
             0.1111111111111111,
             "#46039f"
            ],
            [
             0.2222222222222222,
             "#7201a8"
            ],
            [
             0.3333333333333333,
             "#9c179e"
            ],
            [
             0.4444444444444444,
             "#bd3786"
            ],
            [
             0.5555555555555556,
             "#d8576b"
            ],
            [
             0.6666666666666666,
             "#ed7953"
            ],
            [
             0.7777777777777778,
             "#fb9f3a"
            ],
            [
             0.8888888888888888,
             "#fdca26"
            ],
            [
             1,
             "#f0f921"
            ]
           ]
          },
          "colorway": [
           "#636efa",
           "#EF553B",
           "#00cc96",
           "#ab63fa",
           "#FFA15A",
           "#19d3f3",
           "#FF6692",
           "#B6E880",
           "#FF97FF",
           "#FECB52"
          ],
          "font": {
           "color": "#2a3f5f"
          },
          "geo": {
           "bgcolor": "white",
           "lakecolor": "white",
           "landcolor": "#E5ECF6",
           "showlakes": true,
           "showland": true,
           "subunitcolor": "white"
          },
          "hoverlabel": {
           "align": "left"
          },
          "hovermode": "closest",
          "mapbox": {
           "style": "light"
          },
          "paper_bgcolor": "white",
          "plot_bgcolor": "#E5ECF6",
          "polar": {
           "angularaxis": {
            "gridcolor": "white",
            "linecolor": "white",
            "ticks": ""
           },
           "bgcolor": "#E5ECF6",
           "radialaxis": {
            "gridcolor": "white",
            "linecolor": "white",
            "ticks": ""
           }
          },
          "scene": {
           "xaxis": {
            "backgroundcolor": "#E5ECF6",
            "gridcolor": "white",
            "gridwidth": 2,
            "linecolor": "white",
            "showbackground": true,
            "ticks": "",
            "zerolinecolor": "white"
           },
           "yaxis": {
            "backgroundcolor": "#E5ECF6",
            "gridcolor": "white",
            "gridwidth": 2,
            "linecolor": "white",
            "showbackground": true,
            "ticks": "",
            "zerolinecolor": "white"
           },
           "zaxis": {
            "backgroundcolor": "#E5ECF6",
            "gridcolor": "white",
            "gridwidth": 2,
            "linecolor": "white",
            "showbackground": true,
            "ticks": "",
            "zerolinecolor": "white"
           }
          },
          "shapedefaults": {
           "line": {
            "color": "#2a3f5f"
           }
          },
          "ternary": {
           "aaxis": {
            "gridcolor": "white",
            "linecolor": "white",
            "ticks": ""
           },
           "baxis": {
            "gridcolor": "white",
            "linecolor": "white",
            "ticks": ""
           },
           "bgcolor": "#E5ECF6",
           "caxis": {
            "gridcolor": "white",
            "linecolor": "white",
            "ticks": ""
           }
          },
          "title": {
           "x": 0.05
          },
          "xaxis": {
           "automargin": true,
           "gridcolor": "white",
           "linecolor": "white",
           "ticks": "",
           "title": {
            "standoff": 15
           },
           "zerolinecolor": "white",
           "zerolinewidth": 2
          },
          "yaxis": {
           "automargin": true,
           "gridcolor": "white",
           "linecolor": "white",
           "ticks": "",
           "title": {
            "standoff": 15
           },
           "zerolinecolor": "white",
           "zerolinewidth": 2
          }
         }
        },
        "title": {
         "text": "Change of Ridership in MTA Subway From 2017-2021"
        },
        "xaxis": {
         "anchor": "y",
         "domain": [
          0,
          1
         ],
         "title": {
          "text": "Year"
         }
        },
        "yaxis": {
         "anchor": "x",
         "domain": [
          0,
          1
         ],
         "title": {
          "text": "Exits"
         }
        }
       }
      }
     },
     "metadata": {},
     "output_type": "display_data"
    }
   ],
   "source": [
    "Ridership = px.line(test, x='Year', y='Exits', color='Borough', title=\"Change of Ridership in MTA Subway From 2017-2021\",\n",
    "                    labels={\"M\": \"Manhatten\",  \"Q\": \"Queens\", \"Bx\": \"The Bronx\", \"Bk\": \"Brooklyn\"})\n",
    "Ridership.show()"
   ]
  },
  {
   "cell_type": "code",
   "execution_count": 50,
   "metadata": {},
   "outputs": [
    {
     "data": {
      "text/plain": [
       "Datetime    9911\n",
       "Exits       9836\n",
       "dtype: int64"
      ]
     },
     "execution_count": 50,
     "metadata": {},
     "output_type": "execute_result"
    }
   ],
   "source": [
    "test.nunique()"
   ]
  }
 ],
 "metadata": {
  "kernelspec": {
   "display_name": "base",
   "language": "python",
   "name": "python3"
  },
  "language_info": {
   "codemirror_mode": {
    "name": "ipython",
    "version": 3
   },
   "file_extension": ".py",
   "mimetype": "text/x-python",
   "name": "python",
   "nbconvert_exporter": "python",
   "pygments_lexer": "ipython3",
   "version": "3.9.12"
  },
  "orig_nbformat": 4,
  "vscode": {
   "interpreter": {
    "hash": "6d9a2f6a8d5b2d61f3d63b4e6547be80f2ef52955d5daa9bf6477fe13201ade7"
   }
  }
 },
 "nbformat": 4,
 "nbformat_minor": 2
}
